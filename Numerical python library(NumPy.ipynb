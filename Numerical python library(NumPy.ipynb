{
 "cells": [
  {
   "cell_type": "markdown",
   "id": "f4101736",
   "metadata": {},
   "source": [
    "# Numerical python library(NumPy)"
   ]
  },
  {
   "cell_type": "code",
   "execution_count": 2,
   "id": "ae682216",
   "metadata": {},
   "outputs": [],
   "source": [
    "# you will recall that we import a library using 'import' keyword as numpy's common abbrivation is np\n",
    "import numpy as np\n",
    "import math"
   ]
  },
  {
   "cell_type": "markdown",
   "id": "4a08adac",
   "metadata": {},
   "source": [
    "## Array creation"
   ]
  },
  {
   "cell_type": "code",
   "execution_count": 4,
   "id": "edf61b8f",
   "metadata": {},
   "outputs": [
    {
     "name": "stdout",
     "output_type": "stream",
     "text": [
      "[1 2 3]\n",
      "1\n"
     ]
    }
   ],
   "source": [
    "# array are displayed as a list or list of list and can be created througa list as well. wen creating an\n",
    "# array we pass in alist as an agument in numpy arr\n",
    "a = np.array([1,2,3])\n",
    "print(a)\n",
    "# we can print the number of dimensions of a list using ndim atribute\n",
    "print(a.ndim)"
   ]
  },
  {
   "cell_type": "code",
   "execution_count": 6,
   "id": "2877f1ed",
   "metadata": {},
   "outputs": [
    {
     "data": {
      "text/plain": [
       "array([[1, 2, 3],\n",
       "       [4, 5, 6]])"
      ]
     },
     "execution_count": 6,
     "metadata": {},
     "output_type": "execute_result"
    }
   ],
   "source": [
    "# if we pass in a list of lists in numpy array, we create a multi-dimentional array, for instance, a matrix\n",
    "b = np.array([[1,2,3],[4,5,6]])\n",
    "b"
   ]
  },
  {
   "cell_type": "code",
   "execution_count": 7,
   "id": "938f1300",
   "metadata": {},
   "outputs": [
    {
     "data": {
      "text/plain": [
       "(2, 3)"
      ]
     },
     "execution_count": 7,
     "metadata": {},
     "output_type": "execute_result"
    }
   ],
   "source": [
    "# we can print out the length of each dimension by calling the shape attribute, which returns a tuple \n",
    "b.shape"
   ]
  },
  {
   "cell_type": "code",
   "execution_count": 8,
   "id": "29fa2c02",
   "metadata": {},
   "outputs": [
    {
     "data": {
      "text/plain": [
       "dtype('int32')"
      ]
     },
     "execution_count": 8,
     "metadata": {},
     "output_type": "execute_result"
    }
   ],
   "source": [
    "# we can also check the type of item in the array\n",
    "a.dtype"
   ]
  },
  {
   "cell_type": "code",
   "execution_count": 9,
   "id": "3fa267ac",
   "metadata": {},
   "outputs": [
    {
     "data": {
      "text/plain": [
       "'float64'"
      ]
     },
     "execution_count": 9,
     "metadata": {},
     "output_type": "execute_result"
    }
   ],
   "source": [
    "# Besides integers, floats are also accepted in numpy arrays\n",
    "c = np.array([2.2,5,1.1])\n",
    "c.dtype.name"
   ]
  },
  {
   "cell_type": "code",
   "execution_count": 10,
   "id": "21f0c5c9",
   "metadata": {},
   "outputs": [
    {
     "data": {
      "text/plain": [
       "array([2.2, 5. , 1.1])"
      ]
     },
     "execution_count": 10,
     "metadata": {},
     "output_type": "execute_result"
    }
   ],
   "source": [
    "# let's look at the data in our array\n",
    "c"
   ]
  },
  {
   "cell_type": "code",
   "execution_count": 12,
   "id": "efd44d9c",
   "metadata": {},
   "outputs": [],
   "source": [
    "# note that numpy automatically convert integers, like 5 up to floats,sins there is no loss of prescision.\n",
    "# numpy will try to give you the best data type format possible to keep your data types homogeneous, which\n",
    "# menas all the same, in the array "
   ]
  },
  {
   "cell_type": "code",
   "execution_count": 13,
   "id": "7016acd2",
   "metadata": {},
   "outputs": [
    {
     "name": "stdout",
     "output_type": "stream",
     "text": [
      "[[0. 0. 0.]\n",
      " [0. 0. 0.]]\n",
      "[[1. 1. 1.]\n",
      " [1. 1. 1.]]\n"
     ]
    }
   ],
   "source": [
    "# sometimes we know the shape of an array that we want to create, but not what we want to be in it. \n",
    "# numpy offers several functions to create arrays with initial placeholders, such as zero's or one's.\n",
    "# lets create two arrays, both the same shape but with different filler values \n",
    "d = np.zeros((2,3))\n",
    "print(d)\n",
    "e = np.ones((2,3))\n",
    "print(e)"
   ]
  },
  {
   "cell_type": "code",
   "execution_count": 14,
   "id": "2ff88444",
   "metadata": {},
   "outputs": [
    {
     "data": {
      "text/plain": [
       "array([[0.41696387, 0.53702322, 0.4030148 ],\n",
       "       [0.73127019, 0.39142134, 0.93501106]])"
      ]
     },
     "execution_count": 14,
     "metadata": {},
     "output_type": "execute_result"
    }
   ],
   "source": [
    "# we can also generate an array with random numbers\n",
    "np.random.rand(2,3)"
   ]
  },
  {
   "cell_type": "code",
   "execution_count": 15,
   "id": "7c114dff",
   "metadata": {},
   "outputs": [],
   "source": [
    "# you will see zeros, ones, and rand used quite often to create example arrays, especially in stack overflow \n",
    "# posts and other forues."
   ]
  },
  {
   "cell_type": "code",
   "execution_count": 16,
   "id": "449b6973",
   "metadata": {},
   "outputs": [
    {
     "data": {
      "text/plain": [
       "array([10, 12, 14, 16, 18, 20, 22, 24, 26, 28, 30, 32, 34, 36, 38, 40, 42,\n",
       "       44, 46, 48])"
      ]
     },
     "execution_count": 16,
     "metadata": {},
     "output_type": "execute_result"
    }
   ],
   "source": [
    "# we can also create a sequenceof numbers in an array with the arrange() function. \n",
    "# the fist argument is the starting bound and the second argument is the ending bound, and the third argument is the \n",
    "# difference between each consecutive numders \n",
    "\n",
    "# let,s create an array of every even numders from ten (inclusive) to fifty (exclusive)\n",
    "f = np.arange(10,50,2)\n",
    "f"
   ]
  },
  {
   "cell_type": "code",
   "execution_count": 17,
   "id": "374838d8",
   "metadata": {},
   "outputs": [
    {
     "data": {
      "text/plain": [
       "array([0.        , 0.14285714, 0.28571429, 0.42857143, 0.57142857,\n",
       "       0.71428571, 0.85714286, 1.        , 1.14285714, 1.28571429,\n",
       "       1.42857143, 1.57142857, 1.71428571, 1.85714286, 2.        ])"
      ]
     },
     "execution_count": 17,
     "metadata": {},
     "output_type": "execute_result"
    }
   ],
   "source": [
    "# if we want to generate a sequence of floats, we can use the linspace() fuction. in this function the third agument isn't\n",
    "# the difference between two numbers , but is the total number of items you want to generate \n",
    "np.linspace(0,2,15) # what it means is 15 numbers from 0 (inclusive) to 2 (inclusive)"
   ]
  },
  {
   "cell_type": "markdown",
   "id": "eb1a6638",
   "metadata": {},
   "source": [
    "## Array operations"
   ]
  },
  {
   "cell_type": "code",
   "execution_count": 18,
   "id": "f53c82da",
   "metadata": {},
   "outputs": [],
   "source": [
    "# we can do many things on arrays. such as mathematical manipulation (addition, subtraction, square, exponentes) as well \n",
    "# as use boolean arrays, which are binary valuse. we can also matrix manipulation such as product, transpose, inverse. and \n",
    "# so foth. \n"
   ]
  },
  {
   "cell_type": "code",
   "execution_count": 19,
   "id": "0ddf787b",
   "metadata": {},
   "outputs": [
    {
     "name": "stdout",
     "output_type": "stream",
     "text": [
      "[ 9 18 27 36]\n",
      "[ 10  40  90 160]\n"
     ]
    }
   ],
   "source": [
    "# Aritmetic operators on array apply elementwise.\n",
    "# let's creat a couple of arrays\n",
    "a = np.array([10,20,30,40])\n",
    "b = np.array([1,2,3,4,])\n",
    "\n",
    "# now let's look at a minus b\n",
    "c = a-b\n",
    "print(c)\n",
    "\n",
    "# and let's look at a times b\n",
    "d = a*b\n",
    "print(d)"
   ]
  },
  {
   "cell_type": "code",
   "execution_count": null,
   "id": "cf1b1817",
   "metadata": {},
   "outputs": [],
   "source": [
    "# with arithmetic manipulation, we can convert current data to the way we want it to be. here's a real-world problem \n",
    "# that meany people face - in the united states they use faraheit temperatures, and like canader use's celcius for temperatures.\n"
   ]
  }
 ],
 "metadata": {
  "kernelspec": {
   "display_name": "Python 3 (ipykernel)",
   "language": "python",
   "name": "python3"
  },
  "language_info": {
   "codemirror_mode": {
    "name": "ipython",
    "version": 3
   },
   "file_extension": ".py",
   "mimetype": "text/x-python",
   "name": "python",
   "nbconvert_exporter": "python",
   "pygments_lexer": "ipython3",
   "version": "3.9.12"
  }
 },
 "nbformat": 4,
 "nbformat_minor": 5
}
